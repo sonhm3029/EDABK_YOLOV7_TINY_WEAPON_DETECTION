{
 "cells": [
  {
   "cell_type": "code",
   "execution_count": 20,
   "metadata": {},
   "outputs": [],
   "source": [
    "import cv2\n",
    "import os\n",
    "import matplotlib.pyplot as plt\n",
    "import numpy as np\n",
    "\n",
    "\n",
    "ASSET_URL = './assets'\n",
    "IMG_URL = f\"{ASSET_URL}/img\"\n",
    "VIDEO_URL = f\"{ASSET_URL}/video\"\n",
    "\n"
   ]
  },
  {
   "cell_type": "code",
   "execution_count": 47,
   "metadata": {},
   "outputs": [
    {
     "name": "stdout",
     "output_type": "stream",
     "text": [
      "Frame rate: 29 frames per second\n",
      "Frame count: 618.0\n"
     ]
    }
   ],
   "source": [
    "VID_PATH = \"./assets/video/video_2.mp4\"\n",
    "\n",
    "vid_capture = cv2.VideoCapture(VID_PATH)\n",
    "\n",
    "if (vid_capture.isOpened() == False):\n",
    "    print(\"Error opening theo video file\")\n",
    "else:\n",
    "    # Get frame rate information\n",
    "    fps = int(vid_capture.get(cv2.CAP_PROP_FPS))\n",
    "    print(f\"Frame rate: {fps} frames per second\")\n",
    "    \n",
    "    # Get frame count\n",
    "    frame_count = vid_capture.get(cv2.CAP_PROP_FRAME_COUNT)\n",
    "    print(f\"Frame count: {frame_count}\")\n"
   ]
  },
  {
   "cell_type": "code",
   "execution_count": 48,
   "metadata": {},
   "outputs": [],
   "source": [
    "from PIL import Image\n",
    "\n",
    "img_url_list = [f\"{IMG_URL}/{img_url}\" for img_url in os.listdir(IMG_URL)]\n",
    "# list_pos_left_corner = [\n",
    "#     (93, 40),\n",
    "#     (252, 239),\n",
    "#     (450, 148),\n",
    "#     (583, 317),\n",
    "#     (542, 110),\n",
    "#     (185, 294),\n",
    "#     (173, 100),\n",
    "#     (442, 231)\n",
    "# ]\n",
    "\n",
    "#video 2\n",
    "list_pos_left_corner = [\n",
    "    (625, 335), \n",
    "    (147, 874),\n",
    "    (434, 59),\n",
    "    (421, 275),\n",
    "    (79, 605),\n",
    "    (224, 403) \n",
    "]\n",
    "\n",
    "obj_per_frame = [1, 2, 3, 4]\n",
    "\n",
    "count = 341\n",
    "while (vid_capture.isOpened()):\n",
    "    ret, frame = vid_capture.read()\n",
    "\n",
    "    if ret == True:\n",
    "        # Resize object beforese add to frame\n",
    "        \n",
    "        # number of object to insert per frame\n",
    "        num_obj = np.random.choice(obj_per_frame)\n",
    "        \n",
    "        # take random obj url\n",
    "        random_img_urls = np.random.choice(img_url_list,num_obj)\n",
    "        random_img_pos = np.random.choice(range(len(list_pos_left_corner)), num_obj)\n",
    "        \n",
    "        # Background\n",
    "        # cv2.imshow('frame', frame)\n",
    "        bg =  Image.fromarray(cv2.cvtColor(frame, cv2.COLOR_BGR2RGB))\n",
    "        background = bg.convert(\"RGBA\")\n",
    "        \n",
    "        for idx, random_img_url in enumerate(random_img_urls):\n",
    "            random_obj = Image.open(random_img_url)\n",
    "            h, w = random_obj.height, random_obj.width\n",
    "            resize_h = 15\n",
    "            ratio = resize_h / h\n",
    "            resize_w = int(w * ratio)\n",
    "            random_obj = random_obj.resize((resize_w, resize_h))\n",
    "        \n",
    "            frontImage = random_obj.convert(\"RGBA\")\n",
    "            # random position to place obj\n",
    "            width, height = list_pos_left_corner[random_img_pos[idx]]\n",
    "            \n",
    "            background.paste(frontImage, (width, height), frontImage)\n",
    "            \n",
    "            # Making label\n",
    "            objCenter_x = int(width + resize_w/2)/background.width\n",
    "            objCenter_y = int(height + resize_h/2)/background.height\n",
    "            obj_width = resize_w / background.width\n",
    "            obj_height = resize_h / background.height\n",
    "            obj_classes = \"2\" if \"knife\" in random_img_url else \"0\"\n",
    "            with open(f\"./assets/img_gen/weapon_{count}.txt\", 'a') as f:\n",
    "                f.write(f\"{obj_classes} {objCenter_x} {objCenter_y} {obj_width} {obj_height}\")\n",
    "                f.write('\\n')\n",
    "                \n",
    "        background.save(f\"./assets/img_gen/weapon_{count}.png\", format=\"png\")\n",
    "        \n",
    "        count +=1\n",
    "        cv2.waitKey(20)\n",
    "    else:\n",
    "        cv2.destroyAllWindows()\n",
    "        break"
   ]
  },
  {
   "cell_type": "code",
   "execution_count": null,
   "metadata": {},
   "outputs": [],
   "source": [
    "# vid_capture = cv2.VideoCapture(f'{ASSET_URL}/img_gen/weapon_%d.png')\n",
    "\n",
    "# while (vid_capture.isOpened()):\n",
    "#     ret, frame = vid_capture.read()\n",
    "#     if ret == True:\n",
    "#         cv2.imshow('frame', frame)\n",
    "#         k = cv2.waitKey(20)\n",
    "#     else:\n",
    "#         cv2.destroyAllWindows()\n",
    "#         break"
   ]
  }
 ],
 "metadata": {
  "kernelspec": {
   "display_name": "Python 3.9.13 ('torch_env')",
   "language": "python",
   "name": "python3"
  },
  "language_info": {
   "codemirror_mode": {
    "name": "ipython",
    "version": 3
   },
   "file_extension": ".py",
   "mimetype": "text/x-python",
   "name": "python",
   "nbconvert_exporter": "python",
   "pygments_lexer": "ipython3",
   "version": "3.9.13"
  },
  "orig_nbformat": 4,
  "vscode": {
   "interpreter": {
    "hash": "7e43541ca39c027704f3e2b5f680b3b742d1a94a7d35145d12ddfdd9d0c0bf48"
   }
  }
 },
 "nbformat": 4,
 "nbformat_minor": 2
}
